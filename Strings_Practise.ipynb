{
 "cells": [
  {
   "cell_type": "markdown",
   "id": "7d5258a8",
   "metadata": {},
   "source": [
    "# Python Program for checking a character is a vowel or consonant"
   ]
  },
  {
   "cell_type": "code",
   "execution_count": 4,
   "id": "a4df8dba",
   "metadata": {},
   "outputs": [
    {
     "name": "stdout",
     "output_type": "stream",
     "text": [
      "u is a Vowel\n"
     ]
    }
   ],
   "source": [
    "def isLowercaseVowel(c):\n",
    "    # returns 1 if char matches any of below\n",
    "    return c == 'a' or c == 'e' or c == 'i' or c == 'o' or c == 'u'\n",
    "\n",
    "\n",
    "def isUppercaseVowel(c):\n",
    "    # returns 1 if char matches any of below\n",
    "    return c == 'A' or c == 'E' or c == 'I' or c == 'O' or c == 'U'\n",
    "\n",
    "\n",
    "c =\"u\"\n",
    "\n",
    "# show error message if c is not an alphabet\n",
    "if not c.isalpha():\n",
    "    print(\"Non alphabet\")\n",
    "elif isLowercaseVowel(c) or isUppercaseVowel(c):\n",
    "    print(c, \"is a Vowel\")\n",
    "else:\n",
    "    print(c, \"is a consonant\")"
   ]
  },
  {
   "cell_type": "markdown",
   "id": "cb9832a4",
   "metadata": {},
   "source": [
    "# Python program to check whether a character is an alphabet or not"
   ]
  },
  {
   "cell_type": "code",
   "execution_count": 7,
   "id": "d72f80d0",
   "metadata": {},
   "outputs": [
    {
     "name": "stdout",
     "output_type": "stream",
     "text": [
      "The  character z is an Alphabet\n"
     ]
    }
   ],
   "source": [
    "# Python Program to find character is alphabet or not\n",
    "\n",
    "# user input\n",
    "ch = 'z'\n",
    "\n",
    "# basic logic\n",
    "if 'a' <= ch <= 'z' or 'A' <= ch <= 'Z':\n",
    "    print(\"The  character\", ch, \"is an Alphabet\")\n",
    "else:\n",
    "    print(\"The  character\", ch, \"is not an Alphabet\")"
   ]
  },
  {
   "cell_type": "code",
   "execution_count": 8,
   "id": "f0f9647a",
   "metadata": {},
   "outputs": [
    {
     "name": "stdout",
     "output_type": "stream",
     "text": [
      "The character z is an Alphabet\n"
     ]
    }
   ],
   "source": [
    "# Python Program to find character is alphabet or not\n",
    "\n",
    "# user input\n",
    "ch = 'z'\n",
    "\n",
    "# basic logic\n",
    "if 97 <= ord(ch) <= 122 or 65 <= ord(ch) <= 90:\n",
    "    print(\"The character\", ch, \"is an Alphabet\")\n",
    "else:\n",
    "    print(\"The character\", ch, \"is not an Alphabet\")"
   ]
  },
  {
   "cell_type": "markdown",
   "id": "4e80da0a",
   "metadata": {},
   "source": [
    "# Python program to find ASCII values of a character"
   ]
  },
  {
   "cell_type": "code",
   "execution_count": 12,
   "id": "e4772d85",
   "metadata": {},
   "outputs": [
    {
     "name": "stdout",
     "output_type": "stream",
     "text": [
      "The ASCII value of z is 122\n"
     ]
    }
   ],
   "source": [
    "# user input\n",
    "Char = 'z'\n",
    "\n",
    "# convert Char to Ascii value\n",
    "Ascii_val = ord(Char)\n",
    "\n",
    "# print Value\n",
    "print('The ASCII value of', Char, 'is', Ascii_val)"
   ]
  },
  {
   "cell_type": "markdown",
   "id": "7b8c7164",
   "metadata": {},
   "source": [
    "# Python Program for Calculating the length of string Without using length() function "
   ]
  },
  {
   "cell_type": "code",
   "execution_count": 13,
   "id": "d0fe4957",
   "metadata": {},
   "outputs": [
    {
     "name": "stdout",
     "output_type": "stream",
     "text": [
      "5\n"
     ]
    }
   ],
   "source": [
    "#take user input\n",
    "string = 'Hello'\n",
    "\n",
    "count = 0\n",
    "\n",
    "for i in string:\n",
    " \n",
    "    count+=1\n",
    "print(count)"
   ]
  },
  {
   "cell_type": "markdown",
   "id": "db1ee6c2",
   "metadata": {},
   "source": [
    "# Python program to toggle each character in a string"
   ]
  },
  {
   "cell_type": "code",
   "execution_count": 14,
   "id": "26707a63",
   "metadata": {},
   "outputs": [
    {
     "name": "stdout",
     "output_type": "stream",
     "text": [
      "GuDDuBHaiyA after changing gUddUbhAIYa\n"
     ]
    }
   ],
   "source": [
    "#take user input\n",
    "String = 'GuDDuBHaiyA'\n",
    "#initialize other empty String\n",
    "String1 = str()\n",
    "#iterate through String\n",
    "for i in String:\n",
    "    #check the case of each iterator\n",
    "    if i.isupper():\n",
    "        #change it to opposit case\n",
    "        i = i.lower()\n",
    "        #Concat each iterator to String1\n",
    "        String1 = String1 + i\n",
    "    else:\n",
    "        i = i.upper()\n",
    "        String1 = String1 + i\n",
    "#print String1\n",
    "print(String + ' after changing ' + String1)"
   ]
  },
  {
   "cell_type": "code",
   "execution_count": 15,
   "id": "d6370dfe",
   "metadata": {},
   "outputs": [
    {
     "name": "stdout",
     "output_type": "stream",
     "text": [
      "String after the characters are toggled :  rOOT\n"
     ]
    }
   ],
   "source": [
    " # Python program to toggle each character in a string\n",
    "\n",
    "str = 'Root'\n",
    "print(\"String after the characters are toggled : \",str.swapcase())"
   ]
  },
  {
   "cell_type": "markdown",
   "id": "f5e0560c",
   "metadata": {},
   "source": [
    "# Python program to count the number of vowels in a string"
   ]
  },
  {
   "cell_type": "code",
   "execution_count": 1,
   "id": "405ac52f",
   "metadata": {},
   "outputs": [
    {
     "name": "stdout",
     "output_type": "stream",
     "text": [
      "Enter the string :prasadd\n",
      "Total vowels are :2\n"
     ]
    }
   ],
   "source": [
    "#take user input\n",
    "String = input('Enter the string :')\n",
    "count = 0\n",
    "#to check for less conditions\n",
    "#keep string in lowercase\n",
    "String = String.lower()\n",
    "for i in String:\n",
    "    if i == 'a' or i == 'e' or i == 'i' or i == 'o' or i == 'u':\n",
    "        #if True\n",
    "        count+=1\n",
    "#check if any vowel found\n",
    "if count == 0:\n",
    "    print('No vowels found')\n",
    "else:\n",
    "    print('Total vowels are :' + str(count))"
   ]
  },
  {
   "cell_type": "markdown",
   "id": "b2142461",
   "metadata": {},
   "source": [
    "# Python Program to Remove Vowels from a String"
   ]
  },
  {
   "cell_type": "code",
   "execution_count": 2,
   "id": "e15b7f97",
   "metadata": {},
   "outputs": [
    {
     "name": "stdout",
     "output_type": "stream",
     "text": [
      "\n",
      "After removing Vowels:  Prpnst\n"
     ]
    }
   ],
   "source": [
    "string = \"PrepInsta\"\n",
    "\n",
    "vowels = ['a', 'e', 'i', 'o', 'u', 'A', 'E', 'I', 'O', 'U']\n",
    "result = \"\"\n",
    "\n",
    "for i in range(len(string)):\n",
    "    if string[i] not in vowels:\n",
    "        result = result + string[i]\n",
    "\n",
    "print(\"\\nAfter removing Vowels: \", result)"
   ]
  },
  {
   "cell_type": "markdown",
   "id": "9d97eb60",
   "metadata": {},
   "source": [
    "# Program to check whether a String is a Palindrome or not in Python"
   ]
  },
  {
   "cell_type": "code",
   "execution_count": 3,
   "id": "6ee091a1",
   "metadata": {},
   "outputs": [
    {
     "name": "stdout",
     "output_type": "stream",
     "text": [
      "civic is : Palindrome\n"
     ]
    }
   ],
   "source": [
    "input = \"civic\"\n",
    "\n",
    "j = -1\n",
    "flag = 0\n",
    "for char in input:\n",
    "    # char starts from index 0\n",
    "    # string[j] forces to read from end\n",
    "    # bcz negative index are read from end\n",
    "    if char != input[j]:\n",
    "        flag = 1\n",
    "        break\n",
    "    j = j - 1\n",
    "\n",
    "print(input + \" is : \", end=\"\")\n",
    "print(\"Not Palindrome\") if flag else print(\"Palindrome\")"
   ]
  },
  {
   "cell_type": "markdown",
   "id": "e5879595",
   "metadata": {},
   "source": [
    "# Program to Reverse a String in Python"
   ]
  },
  {
   "cell_type": "code",
   "execution_count": 6,
   "id": "968ae320",
   "metadata": {},
   "outputs": [
    {
     "ename": "TypeError",
     "evalue": "'str' object does not support item assignment",
     "output_type": "error",
     "traceback": [
      "\u001b[1;31m---------------------------------------------------------------------------\u001b[0m",
      "\u001b[1;31mTypeError\u001b[0m                                 Traceback (most recent call last)",
      "Cell \u001b[1;32mIn[6], line 6\u001b[0m\n\u001b[0;32m      3\u001b[0m         string[i] \u001b[38;5;241m=\u001b[39m string[\u001b[38;5;28mlen\u001b[39m(string)\u001b[38;5;241m-\u001b[39mi\u001b[38;5;241m-\u001b[39m\u001b[38;5;241m1\u001b[39m]\n\u001b[0;32m      4\u001b[0m     \u001b[38;5;28;01mreturn\u001b[39;00m string\n\u001b[1;32m----> 6\u001b[0m reverseString(\u001b[38;5;124m\"\u001b[39m\u001b[38;5;124mprasadd\u001b[39m\u001b[38;5;124m\"\u001b[39m)\n",
      "Cell \u001b[1;32mIn[6], line 3\u001b[0m, in \u001b[0;36mreverseString\u001b[1;34m(string)\u001b[0m\n\u001b[0;32m      1\u001b[0m \u001b[38;5;28;01mdef\u001b[39;00m \u001b[38;5;21mreverseString\u001b[39m(string):\n\u001b[0;32m      2\u001b[0m     \u001b[38;5;28;01mfor\u001b[39;00m i \u001b[38;5;129;01min\u001b[39;00m \u001b[38;5;28mrange\u001b[39m(\u001b[38;5;28mlen\u001b[39m(string)\u001b[38;5;241m/\u001b[39m\u001b[38;5;241m/\u001b[39m\u001b[38;5;241m2\u001b[39m):\n\u001b[1;32m----> 3\u001b[0m         string[i] \u001b[38;5;241m=\u001b[39m string[\u001b[38;5;28mlen\u001b[39m(string)\u001b[38;5;241m-\u001b[39mi\u001b[38;5;241m-\u001b[39m\u001b[38;5;241m1\u001b[39m]\n\u001b[0;32m      4\u001b[0m     \u001b[38;5;28;01mreturn\u001b[39;00m string\n",
      "\u001b[1;31mTypeError\u001b[0m: 'str' object does not support item assignment"
     ]
    }
   ],
   "source": [
    "def reverseString(string):\n",
    "    \n",
    "    for i in range(len(string)//2):\n",
    "        string[i] = string[len(string)-i-1]\n",
    "    return string\n",
    "\n",
    "reverseString(\"prasadd\")"
   ]
  },
  {
   "cell_type": "code",
   "execution_count": 7,
   "id": "bfa103b5",
   "metadata": {},
   "outputs": [
    {
     "name": "stdout",
     "output_type": "stream",
     "text": [
      "!dlroW ,olleH\n"
     ]
    }
   ],
   "source": [
    "def reverse_string_recursive(s):\n",
    "    if len(s) == 0:\n",
    "        return s\n",
    "    else:\n",
    "        return reverse_string_recursive(s[1:]) + s[0]\n",
    "\n",
    "# Example usage:\n",
    "input_string = \"Hello, World!\"\n",
    "reversed_string = reverse_string_recursive(input_string)\n",
    "print(reversed_string)  # Output: !dlroW ,olleH\n"
   ]
  },
  {
   "cell_type": "code",
   "execution_count": 8,
   "id": "d6627ee4",
   "metadata": {},
   "outputs": [
    {
     "name": "stdout",
     "output_type": "stream",
     "text": [
      "!dlroW ,olleH\n"
     ]
    }
   ],
   "source": [
    "def reverse_string_loop(s):\n",
    "    reversed_string = \"\"\n",
    "    for char in s:\n",
    "        reversed_string = char + reversed_string\n",
    "    return reversed_string\n",
    "\n",
    "# Example usage:\n",
    "input_string = \"Hello, World!\"\n",
    "reversed_string = reverse_string_loop(input_string)\n",
    "print(reversed_string)  # Output: !dlroW ,olleH\n"
   ]
  },
  {
   "cell_type": "markdown",
   "id": "32df06a7",
   "metadata": {},
   "source": [
    "# Python program to remove all character from string except alphabets"
   ]
  },
  {
   "cell_type": "code",
   "execution_count": 9,
   "id": "785999c1",
   "metadata": {},
   "outputs": [
    {
     "name": "stdout",
     "output_type": "stream",
     "text": [
      "Alphabets in string are :JusticeForChutki\n"
     ]
    }
   ],
   "source": [
    "#take user input\n",
    "String1 = \"#Justice!For@Chutki123\"\n",
    "#initialize empty String\n",
    "String2 = ''\n",
    "for i in String1:\n",
    "    #check for alphabets\n",
    "    if (ord(i) >= 65 and ord(i) <= 90) or (ord(i) >= 97 and ord(i) <= 122):\n",
    "        #concatenate to empty string\n",
    "        String2+=i\n",
    "print('Alphabets in string are :' + String2)"
   ]
  },
  {
   "cell_type": "markdown",
   "id": "23e1e612",
   "metadata": {},
   "source": [
    "# Python Programme to remove spaces from a string"
   ]
  },
  {
   "cell_type": "code",
   "execution_count": 10,
   "id": "4fbb856d",
   "metadata": {},
   "outputs": [
    {
     "name": "stdout",
     "output_type": "stream",
     "text": [
      "After removing spaces string is : PrepInstaisfabulous\n"
     ]
    }
   ],
   "source": [
    "#take user input \n",
    "String = \"PrepInsta is fabulous\"\n",
    "\n",
    "#Use join function \n",
    "String = \"\".join(String.split()) \n",
    "\n",
    "#print String \n",
    "print(\"After removing spaces string is :\",String)"
   ]
  },
  {
   "cell_type": "code",
   "execution_count": 11,
   "id": "8184e68a",
   "metadata": {},
   "outputs": [
    {
     "name": "stdout",
     "output_type": "stream",
     "text": [
      "String after removing space: \n",
      "PrepInstaisfabulous\n"
     ]
    }
   ],
   "source": [
    "# spaces from a string\n",
    "# Input string\n",
    "s=\"PrepInsta is fabulous\"\n",
    "# Count no. of spaces in a string\n",
    "t=s.count(\" \")\n",
    "# replace all the spaces with ”\n",
    "for i in range(t):\n",
    "    s=s.replace(' ',\"\")\n",
    "\n",
    "# Print the output\n",
    "print(\"String after removing space: \")\n",
    "print(s)"
   ]
  },
  {
   "cell_type": "markdown",
   "id": "036bd95c",
   "metadata": {},
   "source": [
    "# Python Program to Count the Sum of Numbers in a String"
   ]
  },
  {
   "cell_type": "code",
   "execution_count": 12,
   "id": "56546552",
   "metadata": {},
   "outputs": [
    {
     "data": {
      "text/plain": [
       "21"
      ]
     },
     "execution_count": 12,
     "metadata": {},
     "output_type": "execute_result"
    }
   ],
   "source": [
    "def sum_of_digits(String):\n",
    "    Sum = 0\n",
    "    for i in String:\n",
    "        if i.isdigit():\n",
    "            Sum+=int(i)\n",
    "    return Sum\n",
    "\n",
    "\n",
    "\n",
    "String = \"Daya123Ben456\"\n",
    "sum_of_digits(String)"
   ]
  },
  {
   "cell_type": "markdown",
   "id": "fbe7c2b4",
   "metadata": {},
   "source": [
    "# Python program to capitalize the first and last letter of each word of a string"
   ]
  },
  {
   "cell_type": "code",
   "execution_count": 14,
   "id": "bc1a460e",
   "metadata": {},
   "outputs": [
    {
     "data": {
      "text/plain": [
       "'PrasaD'"
      ]
     },
     "execution_count": 14,
     "metadata": {},
     "output_type": "execute_result"
    }
   ],
   "source": [
    "def F_L_captilize(string):\n",
    "    return string[0].upper()+string[1:len(string)-1]+string[-1].upper()\n",
    "\n",
    "F_L_captilize(\"prasad\")"
   ]
  },
  {
   "cell_type": "markdown",
   "id": "c05ff1e5",
   "metadata": {},
   "source": [
    "# Python program to Calculate Frequency of a Characters in a String "
   ]
  },
  {
   "cell_type": "code",
   "execution_count": 16,
   "id": "2e82f5b2",
   "metadata": {},
   "outputs": [
    {
     "name": "stdout",
     "output_type": "stream",
     "text": [
      "{'Y': 1, 'O': 2, 'L': 2, ' ': 1, 'I': 1, 'F': 1, 'E': 1}\n"
     ]
    }
   ],
   "source": [
    "Str = \"YOLO LIFE\"\n",
    "\n",
    "# create dictionary to store key value pair\n",
    "d = {}\n",
    "\n",
    "for i in Str:\n",
    "    # if i already appears as key in dict, increment the count\n",
    "    if i in d:\n",
    "        d[i] += 1\n",
    "\n",
    "    # else i appears for the first time, add to dict\n",
    "    else:\n",
    "        d[i] = 1\n",
    "\n",
    "# printing result \n",
    "print(d)"
   ]
  },
  {
   "cell_type": "markdown",
   "id": "dc6569c0",
   "metadata": {},
   "source": [
    "# Python program to find non repeating characters in a string"
   ]
  },
  {
   "cell_type": "code",
   "execution_count": 22,
   "id": "3cf83df0",
   "metadata": {},
   "outputs": [
    {
     "name": "stdout",
     "output_type": "stream",
     "text": [
      "['Y', ' ', 'I', 'F', 'E']\n"
     ]
    }
   ],
   "source": [
    "print([i for i,j in d.items() if j==1])"
   ]
  },
  {
   "cell_type": "markdown",
   "id": "b185cbbe",
   "metadata": {},
   "source": [
    "# Python program to check if two Strings are Anagram or not"
   ]
  },
  {
   "cell_type": "code",
   "execution_count": 23,
   "id": "b8933220",
   "metadata": {},
   "outputs": [
    {
     "name": "stdout",
     "output_type": "stream",
     "text": [
      "String1 after sorting:  ['e', 'i', 'l', 'n', 's', 't']\n",
      "String2 after sorting:  ['e', 'i', 'l', 'n', 's', 't']\n",
      "Strings are anagram\n"
     ]
    }
   ],
   "source": [
    "# Anagram program in python\n",
    "# take user input\n",
    "String1 = \"Listen\"\n",
    "String2 = \"Silent\"\n",
    "\n",
    "String1 = sorted(String1.lower())\n",
    "String2 = sorted(String2.lower())\n",
    "\n",
    "print(\"String1 after sorting: \", String1)\n",
    "print(\"String2 after sorting: \", String2)\n",
    "\n",
    "# check if now strings matches\n",
    "if String1 == String2:\n",
    "    print('Strings are anagram')\n",
    "else:\n",
    "    print('Strings are not anagram')"
   ]
  },
  {
   "cell_type": "code",
   "execution_count": 24,
   "id": "3c3fae23",
   "metadata": {},
   "outputs": [
    {
     "name": "stdout",
     "output_type": "stream",
     "text": [
      "'Listen' and 'Silent' are anagrams.\n"
     ]
    }
   ],
   "source": [
    "def are_anagrams(str1, str2):\n",
    "    # Remove spaces and convert both strings to lowercase\n",
    "    str1 = str1.replace(\" \", \"\").lower()\n",
    "    str2 = str2.replace(\" \", \"\").lower()\n",
    "\n",
    "    # If lengths are not the same, they can't be anagrams\n",
    "    if len(str1) != len(str2):\n",
    "        return False\n",
    "\n",
    "    # Create a frequency dictionary for the first string\n",
    "    char_count = {}\n",
    "\n",
    "    for char in str1:\n",
    "        if char in char_count:\n",
    "            char_count[char] += 1\n",
    "        else:\n",
    "            char_count[char] = 1\n",
    "\n",
    "    # Decrease the count for each character in the second string\n",
    "    for char in str2:\n",
    "        if char in char_count:\n",
    "            char_count[char] -= 1\n",
    "        else:\n",
    "            return False\n",
    "\n",
    "    # Check if all counts are zero\n",
    "    for count in char_count.values():\n",
    "        if count != 0:\n",
    "            return False\n",
    "\n",
    "    return True\n",
    "\n",
    "# Example usage:\n",
    "string1 = \"Listen\"\n",
    "string2 = \"Silent\"\n",
    "\n",
    "if are_anagrams(string1, string2):\n",
    "    print(f\"'{string1}' and '{string2}' are anagrams.\")\n",
    "else:\n",
    "    print(f\"'{string1}' and '{string2}' are not anagrams.\")\n"
   ]
  },
  {
   "cell_type": "markdown",
   "id": "e504f337",
   "metadata": {},
   "source": [
    "# Python program to replace a substring in a string"
   ]
  },
  {
   "cell_type": "code",
   "execution_count": 1,
   "id": "0a3ff487",
   "metadata": {},
   "outputs": [
    {
     "name": "stdout",
     "output_type": "stream",
     "text": [
      "Enter String :\n",
      "Prasad reddy\n",
      "Enter substring which has to be replaced :\n",
      "reddy\n",
      "Enter substring with which str1 has to be replaced :\n",
      "ayithireddi\n",
      "String after replacement\n",
      "Prasad ayithireddi\n"
     ]
    }
   ],
   "source": [
    "string=input(\"Enter String :\\n\")\n",
    "str1=input(\"Enter substring which has to be replaced :\\n\")\n",
    "str2=input(\"Enter substring with which str1 has to be replaced :\\n\")\n",
    "string=string.replace(str1,str2)\n",
    "print(\"String after replacement\")\n",
    "print(string)"
   ]
  },
  {
   "cell_type": "markdown",
   "id": "6ac31359",
   "metadata": {},
   "source": [
    "# Python Program to Count Common Subsequence in two Strings"
   ]
  },
  {
   "cell_type": "code",
   "execution_count": 1,
   "id": "257fcfa3",
   "metadata": {},
   "outputs": [
    {
     "name": "stderr",
     "output_type": "stream",
     "text": [
      "C:\\Users\\prasad ayithireddy\\anaconda\\Lib\\site-packages\\pandas\\core\\arrays\\masked.py:60: UserWarning: Pandas requires version '1.3.6' or newer of 'bottleneck' (version '1.3.5' currently installed).\n",
      "  from pandas.core import (\n"
     ]
    },
    {
     "name": "stdout",
     "output_type": "stream",
     "text": [
      "Document saved as Indian_Public_Holidays_2024.xlsx\n"
     ]
    }
   ],
   "source": [
    "import pandas as pd\n",
    "\n",
    "# Data for the holidays\n",
    "data = {\n",
    "    'Date': ['Aug 15, 2024', 'Aug 19, 2024', 'Sep 07, 2024', 'Oct 02, 2024', 'Oct 12, 2024', 'Oct 31, 2024', 'Nov 15, 2024', 'Dec 25, 2024'],\n",
    "    'Holiday': ['Independence Day', 'Raksha Bandhan', 'Vinayaka Chaturthi', 'Mahatma Gandhi\\'s Birthday', 'Vijaya Dashami', 'Diwali / Deepavali', 'Guru Nanak\\'s Birthday', 'Christmas Day'],\n",
    "    'Type': ['Gazetted Holiday', 'Restricted Holiday', 'Restricted Holiday', 'Gazetted Holiday', 'Gazetted Holiday', 'Gazetted Holiday', 'Gazetted Holiday', 'Gazetted Holiday'],\n",
    "    'Weekday': ['Thursday', 'Monday', 'Saturday', 'Wednesday', 'Saturday', 'Thursday', 'Friday', 'Wednesday']\n",
    "}\n",
    "\n",
    "# Create a DataFrame\n",
    "df = pd.DataFrame(data)\n",
    "\n",
    "# Save to Excel\n",
    "file_name = 'Indian_Public_Holidays_2024.xlsx'\n",
    "df.to_excel(file_name, index=False, engine='openpyxl')\n",
    "\n",
    "print(f\"Document saved as {file_name}\")\n"
   ]
  },
  {
   "cell_type": "code",
   "execution_count": null,
   "id": "2e7179f4",
   "metadata": {},
   "outputs": [],
   "source": []
  }
 ],
 "metadata": {
  "kernelspec": {
   "display_name": "Python 3 (ipykernel)",
   "language": "python",
   "name": "python3"
  },
  "language_info": {
   "codemirror_mode": {
    "name": "ipython",
    "version": 3
   },
   "file_extension": ".py",
   "mimetype": "text/x-python",
   "name": "python",
   "nbconvert_exporter": "python",
   "pygments_lexer": "ipython3",
   "version": "3.11.5"
  }
 },
 "nbformat": 4,
 "nbformat_minor": 5
}
